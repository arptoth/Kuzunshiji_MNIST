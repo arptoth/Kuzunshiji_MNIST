{
  "nbformat": 4,
  "nbformat_minor": 0,
  "metadata": {
    "colab": {
      "name": "Kuzunshiji-MNIST.ipynb",
      "version": "0.3.2",
      "provenance": [],
      "collapsed_sections": [],
      "include_colab_link": true
    },
    "kernelspec": {
      "name": "python3",
      "display_name": "Python 3"
    },
    "accelerator": "TPU"
  },
  "cells": [
    {
      "cell_type": "markdown",
      "metadata": {
        "id": "view-in-github",
        "colab_type": "text"
      },
      "source": [
        "<a href=\"https://colab.research.google.com/github/arptoth/Kuzunshiji_MNIST/blob/master/Kuzunshiji_MNIST.ipynb\" target=\"_parent\"><img src=\"https://colab.research.google.com/assets/colab-badge.svg\" alt=\"Open In Colab\"/></a>"
      ]
    },
    {
      "cell_type": "markdown",
      "metadata": {
        "id": "vL7m9GhUYPhO",
        "colab_type": "text"
      },
      "source": [
        "# Recognize Kuzunshiji japanese characters"
      ]
    },
    {
      "cell_type": "markdown",
      "metadata": {
        "id": "UsYsIvZiXvwW",
        "colab_type": "text"
      },
      "source": [
        "![alt text](https://files.tofugu.com/articles/japanese/2012-01-25-hentaigana-history-of-japanese-writing-system/kuzushiji-strips.jpg)\n"
      ]
    },
    {
      "cell_type": "markdown",
      "metadata": {
        "id": "09GLBKBqx_S_",
        "colab_type": "text"
      },
      "source": [
        "# Download data"
      ]
    },
    {
      "cell_type": "code",
      "metadata": {
        "id": "tI6gQdLCx-0Q",
        "colab_type": "code",
        "outputId": "cc493b47-310b-4952-c171-24a654f45293",
        "colab": {
          "base_uri": "https://localhost:8080/",
          "height": 207
        }
      },
      "source": [
        "!pip install kaggle"
      ],
      "execution_count": 1,
      "outputs": [
        {
          "output_type": "stream",
          "text": [
            "Requirement already satisfied: kaggle in /usr/local/lib/python3.6/dist-packages (1.5.4)\n",
            "Requirement already satisfied: urllib3<1.25,>=1.21.1 in /usr/local/lib/python3.6/dist-packages (from kaggle) (1.24.3)\n",
            "Requirement already satisfied: six>=1.10 in /usr/local/lib/python3.6/dist-packages (from kaggle) (1.12.0)\n",
            "Requirement already satisfied: python-slugify in /usr/local/lib/python3.6/dist-packages (from kaggle) (3.0.2)\n",
            "Requirement already satisfied: python-dateutil in /usr/local/lib/python3.6/dist-packages (from kaggle) (2.5.3)\n",
            "Requirement already satisfied: tqdm in /usr/local/lib/python3.6/dist-packages (from kaggle) (4.28.1)\n",
            "Requirement already satisfied: certifi in /usr/local/lib/python3.6/dist-packages (from kaggle) (2019.3.9)\n",
            "Requirement already satisfied: requests in /usr/local/lib/python3.6/dist-packages (from kaggle) (2.21.0)\n",
            "Requirement already satisfied: text-unidecode==1.2 in /usr/local/lib/python3.6/dist-packages (from python-slugify->kaggle) (1.2)\n",
            "Requirement already satisfied: chardet<3.1.0,>=3.0.2 in /usr/local/lib/python3.6/dist-packages (from requests->kaggle) (3.0.4)\n",
            "Requirement already satisfied: idna<2.9,>=2.5 in /usr/local/lib/python3.6/dist-packages (from requests->kaggle) (2.8)\n"
          ],
          "name": "stdout"
        }
      ]
    },
    {
      "cell_type": "code",
      "metadata": {
        "id": "6FNUBMe0wB37",
        "colab_type": "code",
        "colab": {
          "base_uri": "https://localhost:8080/",
          "height": 175
        },
        "outputId": "4569b7a2-3d25-438e-afb0-56dfb5eb738d"
      },
      "source": [
        "!pip install ipython-autotime\n",
        "\n",
        "%load_ext autotime"
      ],
      "execution_count": 19,
      "outputs": [
        {
          "output_type": "stream",
          "text": [
            "Collecting ipython-autotime\n",
            "  Downloading https://files.pythonhosted.org/packages/e6/f9/0626bbdb322e3a078d968e87e3b01341e7890544de891d0cb613641220e6/ipython-autotime-0.1.tar.bz2\n",
            "Building wheels for collected packages: ipython-autotime\n",
            "  Building wheel for ipython-autotime (setup.py) ... \u001b[?25l\u001b[?25hdone\n",
            "  Stored in directory: /root/.cache/pip/wheels/d2/df/81/2db1e54bc91002cec40334629bc39cfa86dff540b304ebcd6e\n",
            "Successfully built ipython-autotime\n",
            "Installing collected packages: ipython-autotime\n",
            "Successfully installed ipython-autotime-0.1\n"
          ],
          "name": "stdout"
        }
      ]
    },
    {
      "cell_type": "code",
      "metadata": {
        "id": "3pehzyZHyS4D",
        "colab_type": "code",
        "outputId": "6e3c3a33-3b56-48ac-fbe2-1fe085cb3a25",
        "colab": {
          "base_uri": "https://localhost:8080/",
          "height": 52
        },
        "cellView": "both"
      },
      "source": [
        "from getpass import getpass\n",
        "\n",
        "key = getpass('Enter token here')\n",
        "\n",
        "#Set the enviroment variables\n",
        "import os\n",
        "os.environ['KAGGLE_USERNAME'] = \"arpadtoth\"\n",
        "os.environ['KAGGLE_KEY'] = key\n",
        "!kaggle datasets download -d anokas/kuzushiji\n",
        "\n"
      ],
      "execution_count": 2,
      "outputs": [
        {
          "output_type": "stream",
          "text": [
            "Enter token here··········\n",
            "kuzushiji.zip: Skipping, found more recently modified local copy (use --force to force download)\n"
          ],
          "name": "stdout"
        }
      ]
    },
    {
      "cell_type": "code",
      "metadata": {
        "id": "lJEWqMXvy8xN",
        "colab_type": "code",
        "colab": {}
      },
      "source": [
        "import zipfile\n",
        "\n",
        "zip_ref = zipfile.ZipFile('kuzushiji.zip', 'r')\n",
        "zip_ref.extractall()\n",
        "zip_ref.close()"
      ],
      "execution_count": 0,
      "outputs": []
    },
    {
      "cell_type": "code",
      "metadata": {
        "id": "t5KjLjymzT_z",
        "colab_type": "code",
        "colab": {
          "base_uri": "https://localhost:8080/",
          "height": 35
        },
        "outputId": "7fd49b81-98f3-40ef-f39d-6a587db9a17b"
      },
      "source": [
        "import numpy as np # linear algebra\n",
        "\n",
        "train_images = np.load('kmnist-train-imgs.npz')['arr_0']\n",
        "test_images = np.load('kmnist-test-imgs.npz')['arr_0']\n",
        "train_labels = np.load('kmnist-train-labels.npz')['arr_0']\n",
        "test_labels = np.load('kmnist-test-labels.npz')['arr_0']"
      ],
      "execution_count": 20,
      "outputs": [
        {
          "output_type": "stream",
          "text": [
            "time: 415 ms\n"
          ],
          "name": "stdout"
        }
      ]
    },
    {
      "cell_type": "code",
      "metadata": {
        "id": "JwXDg3oB0D9I",
        "colab_type": "code",
        "colab": {
          "base_uri": "https://localhost:8080/",
          "height": 35
        },
        "outputId": "2d8b4aa0-9dac-4908-d9c4-5129cc5526ec"
      },
      "source": [
        "train_images = train_images / 255.0\n",
        "test_images = test_images / 255.0"
      ],
      "execution_count": 21,
      "outputs": [
        {
          "output_type": "stream",
          "text": [
            "time: 220 ms\n"
          ],
          "name": "stdout"
        }
      ]
    },
    {
      "cell_type": "code",
      "metadata": {
        "id": "1C1Md9rQzzlq",
        "colab_type": "code",
        "outputId": "f1fdc0e4-0232-4ebc-aa22-1ea58083df4f",
        "colab": {
          "base_uri": "https://localhost:8080/",
          "height": 286
        }
      },
      "source": [
        "import matplotlib.pyplot as plt # plotting\n",
        "\n",
        "plt.figure()\n",
        "plt.imshow(train_images[0], cmap='binary')\n",
        "plt.colorbar()\n",
        "plt.grid(False)"
      ],
      "execution_count": 22,
      "outputs": [
        {
          "output_type": "display_data",
          "data": {
            "image/png": "[encoded data removed]",
            "text/plain": [
              "<Figure size 432x288 with 2 Axes>"
            ]
          },
          "metadata": {
            "tags": []
          }
        },
        {
          "output_type": "stream",
          "text": [
            "time: 244 ms\n"
          ],
          "name": "stdout"
        }
      ]
    },
    {
      "cell_type": "code",
      "metadata": {
        "id": "WtjzpIGvvZh3",
        "colab_type": "code",
        "colab": {
          "base_uri": "https://localhost:8080/",
          "height": 114
        },
        "outputId": "96f885b1-2a01-461f-e40f-5f1a7644e942"
      },
      "source": [
        "plt.figure(figsize=(10,10))\n",
        "\n",
        "for i in range(10):\n",
        "    plt.subplot(1,10,i+1)\n",
        "    plt.xticks([])\n",
        "    plt.yticks([])\n",
        "    plt.grid(False)\n",
        "    plt.imshow(train_images[i], cmap=plt.cm.binary)\n",
        "    plt.xlabel(train_labels[i])"
      ],
      "execution_count": 23,
      "outputs": [
        {
          "output_type": "display_data",
          "data": {
            "image/png": "[encoded data removed]",
            "text/plain": [
              "<Figure size 720x720 with 10 Axes>"
            ]
          },
          "metadata": {
            "tags": []
          }
        },
        {
          "output_type": "stream",
          "text": [
            "time: 458 ms\n"
          ],
          "name": "stdout"
        }
      ]
    },
    {
      "cell_type": "markdown",
      "metadata": {
        "id": "HDvu3T-v132j",
        "colab_type": "text"
      },
      "source": [
        "## Modelling"
      ]
    },
    {
      "cell_type": "code",
      "metadata": {
        "id": "z4BzQXoe1588",
        "colab_type": "code",
        "colab": {
          "base_uri": "https://localhost:8080/",
          "height": 35
        },
        "outputId": "4ddd133b-d051-400f-dea6-cf63d4d73a6d"
      },
      "source": [
        "import tensorflow.keras as keras\n",
        "from tensorflow.keras.datasets import mnist\n",
        "from tensorflow.keras.models import Sequential\n",
        "from tensorflow.keras.layers import Dense, Dropout, Flatten\n",
        "from tensorflow.keras.layers import Conv2D, MaxPooling2D\n",
        "from tensorflow.keras import backend as K\n"
      ],
      "execution_count": 24,
      "outputs": [
        {
          "output_type": "stream",
          "text": [
            "time: 2.87 ms\n"
          ],
          "name": "stdout"
        }
      ]
    },
    {
      "cell_type": "code",
      "metadata": {
        "id": "NMzvIq3H16ur",
        "colab_type": "code",
        "colab": {
          "base_uri": "https://localhost:8080/",
          "height": 35
        },
        "outputId": "f781caf3-9f49-479d-b44d-299fab57d87c"
      },
      "source": [
        "X_train_flat = train_images.reshape(60000, -1)\n",
        "X_test_flat = test_images.reshape(10000,-1)\n",
        "\n",
        "# Keras inputs\n",
        "x_train = np.expand_dims(train_images, axis=-1)\n",
        "x_test = np.expand_dims(test_images, axis=-1)\n",
        "y_train = keras.utils.to_categorical(train_labels)\n",
        "y_test = keras.utils.to_categorical(test_labels)"
      ],
      "execution_count": 25,
      "outputs": [
        {
          "output_type": "stream",
          "text": [
            "time: 16.3 ms\n"
          ],
          "name": "stdout"
        }
      ]
    },
    {
      "cell_type": "markdown",
      "metadata": {
        "id": "UBiad8QD2fh1",
        "colab_type": "text"
      },
      "source": [
        "# Implementing CNN"
      ]
    },
    {
      "cell_type": "code",
      "metadata": {
        "id": "9t9AKGXy2jTL",
        "colab_type": "code",
        "outputId": "67305cef-956c-4ead-c495-a096f79f3ade",
        "colab": {
          "base_uri": "https://localhost:8080/",
          "height": 676
        }
      },
      "source": [
        "img_rows, img_cols = 28, 28\n",
        "batch_size = 128\n",
        "num_classes = 10\n",
        "epochs = 12\n",
        "\n",
        "\n",
        "model = Sequential()\n",
        "\n",
        "model.add(Conv2D(32, kernel_size=(3, 3),\n",
        "                 activation='relu',\n",
        "                 input_shape=(img_rows, img_cols, 1)))\n",
        "model.add(Conv2D(64, (3, 3), activation='relu'))\n",
        "model.add(MaxPooling2D(pool_size=(2, 2)))\n",
        "model.add(Dropout(0.25))\n",
        "model.add(Flatten())\n",
        "model.add(Dense(128, activation='relu'))\n",
        "model.add(Dropout(0.5))\n",
        "model.add(Dense(num_classes, activation='softmax'))\n",
        "\n",
        "\n",
        "model.compile(loss=keras.losses.categorical_crossentropy,\n",
        "              optimizer=keras.optimizers.Adadelta(),\n",
        "              metrics=['accuracy'])\n",
        "\n",
        "\n",
        "model.fit(x_train, y_train,\n",
        "          batch_size=batch_size,\n",
        "          epochs=epochs,\n",
        "          verbose=1,\n",
        "          validation_data=(x_test, y_test))\n",
        "\n",
        "\n",
        "score = model.evaluate(x_test, y_test, verbose=0)\n",
        "\n",
        "\n",
        "print('Test loss:', score[0])\n",
        "print('Test accuracy:', score[1])"
      ],
      "execution_count": 26,
      "outputs": [
        {
          "output_type": "stream",
          "text": [
            "WARNING:tensorflow:From /usr/local/lib/python3.6/dist-packages/tensorflow/python/ops/resource_variable_ops.py:435: colocate_with (from tensorflow.python.framework.ops) is deprecated and will be removed in a future version.\n",
            "Instructions for updating:\n",
            "Colocations handled automatically by placer.\n",
            "WARNING:tensorflow:From /usr/local/lib/python3.6/dist-packages/tensorflow/python/keras/layers/core.py:143: calling dropout (from tensorflow.python.ops.nn_ops) with keep_prob is deprecated and will be removed in a future version.\n",
            "Instructions for updating:\n",
            "Please use `rate` instead of `keep_prob`. Rate should be set to `rate = 1 - keep_prob`.\n",
            "Train on 60000 samples, validate on 10000 samples\n",
            "WARNING:tensorflow:From /usr/local/lib/python3.6/dist-packages/tensorflow/python/ops/math_ops.py:3066: to_int32 (from tensorflow.python.ops.math_ops) is deprecated and will be removed in a future version.\n",
            "Instructions for updating:\n",
            "Use tf.cast instead.\n",
            "Epoch 1/12\n",
            "60000/60000 [==============================] - 172s 3ms/sample - loss: 0.4431 - acc: 0.8640 - val_loss: 0.3715 - val_acc: 0.8938\n",
            "Epoch 2/12\n",
            "60000/60000 [==============================] - 172s 3ms/sample - loss: 0.1775 - acc: 0.9474 - val_loss: 0.2997 - val_acc: 0.9178\n",
            "Epoch 3/12\n",
            "60000/60000 [==============================] - 171s 3ms/sample - loss: 0.1284 - acc: 0.9613 - val_loss: 0.2435 - val_acc: 0.9337\n",
            "Epoch 4/12\n",
            "60000/60000 [==============================] - 171s 3ms/sample - loss: 0.1080 - acc: 0.9674 - val_loss: 0.2416 - val_acc: 0.9350\n",
            "Epoch 5/12\n",
            "60000/60000 [==============================] - 170s 3ms/sample - loss: 0.0926 - acc: 0.9718 - val_loss: 0.2401 - val_acc: 0.9378\n",
            "Epoch 6/12\n",
            "60000/60000 [==============================] - 170s 3ms/sample - loss: 0.0764 - acc: 0.9762 - val_loss: 0.2216 - val_acc: 0.9437\n",
            "Epoch 7/12\n",
            "60000/60000 [==============================] - 170s 3ms/sample - loss: 0.0717 - acc: 0.9777 - val_loss: 0.2251 - val_acc: 0.9460\n",
            "Epoch 8/12\n",
            "60000/60000 [==============================] - 171s 3ms/sample - loss: 0.0672 - acc: 0.9790 - val_loss: 0.2034 - val_acc: 0.9494\n",
            "Epoch 9/12\n",
            "60000/60000 [==============================] - 171s 3ms/sample - loss: 0.0612 - acc: 0.9808 - val_loss: 0.2201 - val_acc: 0.9468\n",
            "Epoch 10/12\n",
            "60000/60000 [==============================] - 170s 3ms/sample - loss: 0.0574 - acc: 0.9823 - val_loss: 0.2409 - val_acc: 0.9459\n",
            "Epoch 11/12\n",
            "60000/60000 [==============================] - 170s 3ms/sample - loss: 0.0578 - acc: 0.9822 - val_loss: 0.2374 - val_acc: 0.9488\n",
            "Epoch 12/12\n",
            "60000/60000 [==============================] - 170s 3ms/sample - loss: 0.0541 - acc: 0.9834 - val_loss: 0.2241 - val_acc: 0.9502\n",
            "Test loss: 0.22412244407813997\n",
            "Test accuracy: 0.9502\n",
            "time: 34min 15s\n"
          ],
          "name": "stdout"
        }
      ]
    }
  ]
}